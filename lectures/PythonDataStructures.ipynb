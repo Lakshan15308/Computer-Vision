{
  "cells": [
    {
      "cell_type": "markdown",
      "metadata": {
        "id": "YIhejjk0HIH4"
      },
      "source": [
        "# Some Python data structures"
      ]
    },
    {
      "cell_type": "markdown",
      "metadata": {
        "id": "Q23bL-_NHIH8"
      },
      "source": [
        "This section covers examples how to use some most important data structures often needed for data analysis. In data analysis we need often arrays and matrices to be able to store many values under one symbolic name.\n",
        "\n",
        "## Python list\n",
        "\n",
        "List is a variable which can store a list of different kind of values. List is created by using square brackets surrounding all necessary values, which are separated with commas:"
      ]
    },
    {
      "cell_type": "code",
      "execution_count": 1,
      "metadata": {
        "ExecuteTime": {
          "end_time": "2021-10-06T10:22:27.229354Z",
          "start_time": "2021-10-06T10:22:27.091563Z"
        },
        "id": "-x0oFVbcHIH8",
        "outputId": "1db4d010-b61b-4207-baa4-bacd1200a4c2",
        "colab": {
          "base_uri": "https://localhost:8080/"
        }
      },
      "outputs": [
        {
          "output_type": "stream",
          "name": "stdout",
          "text": [
            "[1, 2, 3, 4, 5]\n",
            "[3.141, 1.412, 3.141592653589793]\n",
            "['a', 'b', 'c', 'd']\n",
            "['eka', 'toka', 'kolmas']\n",
            "[]\n",
            "The length of integer list is 5\n",
            "The length of empy list is 0\n"
          ]
        }
      ],
      "source": [
        "from numpy import pi\n",
        "\n",
        "list_of_integers=[1,2,3,4,5]\n",
        "print(list_of_integers)\n",
        "\n",
        "list_of_floats=[3.141, 1.412, pi]\n",
        "print(list_of_floats)\n",
        "\n",
        "list_of_characters=['a', 'b', 'c', 'd']\n",
        "print(list_of_characters)\n",
        "\n",
        "list_of_strings=['eka', 'toka', 'kolmas']\n",
        "print(list_of_strings)\n",
        "\n",
        "an_empty_list=[]\n",
        "print(an_empty_list)\n",
        "\n",
        "# Get the lenghts\n",
        "print(\"The length of integer list is\", len(list_of_integers))\n",
        "print(\"The length of empy list is\", len(an_empty_list))"
      ]
    },
    {
      "cell_type": "markdown",
      "metadata": {
        "id": "78os7AA8HIH-"
      },
      "source": [
        "## Accessing values"
      ]
    },
    {
      "cell_type": "code",
      "execution_count": 2,
      "metadata": {
        "id": "T5izSL_kHIH_",
        "outputId": "711a5343-b7da-4db5-fe26-89f52f5a8553",
        "colab": {
          "base_uri": "https://localhost:8080/"
        }
      },
      "outputs": [
        {
          "output_type": "stream",
          "name": "stdout",
          "text": [
            "The first integer is  1\n",
            "The second float is  1.412\n",
            "The last string  kolmas\n",
            "The second and third integers are  [2, 3]\n",
            "All integers, except the first one are [2, 3, 4, 5]\n",
            "All integers, except the last one are [1, 2, 3, 4]\n"
          ]
        }
      ],
      "source": [
        "print(\"The first integer is \", list_of_integers[0])\n",
        "print(\"The second float is \", list_of_floats[1])\n",
        "print(\"The last string \", list_of_strings[-1])\n",
        "\n",
        "# The lists can be also sliced\n",
        "print(\"The second and third integers are \", list_of_integers[1:3])\n",
        "print(\"All integers, except the first one are\", list_of_integers[1:])\n",
        "print(\"All integers, except the last one are\", list_of_integers[:-1])"
      ]
    },
    {
      "cell_type": "markdown",
      "metadata": {
        "id": "5AP4TmvtHIH_"
      },
      "source": [
        "### The values in the list can be changed"
      ]
    },
    {
      "cell_type": "code",
      "execution_count": 3,
      "metadata": {
        "scrolled": true,
        "id": "fM-fTdAbHIIA",
        "outputId": "5ff98dfe-ff86-4b85-e2e3-3be8b3f7dd61",
        "colab": {
          "base_uri": "https://localhost:8080/"
        }
      },
      "outputs": [
        {
          "output_type": "stream",
          "name": "stdout",
          "text": [
            "[1, 2, 99, 4, 5]\n",
            "[1, 21, 22, 23, 5]\n"
          ]
        }
      ],
      "source": [
        "list_of_integers[2]=99\n",
        "print(list_of_integers)\n",
        "\n",
        "list_of_integers[1:4]=[21,22,23]\n",
        "print(list_of_integers)"
      ]
    },
    {
      "cell_type": "markdown",
      "metadata": {
        "id": "rSHNC78sHIIA"
      },
      "source": [
        "The output of many functions can be interpreted as a list"
      ]
    },
    {
      "cell_type": "code",
      "execution_count": 4,
      "metadata": {
        "id": "Kb6r4uR4HIIB",
        "outputId": "6abef98d-fa51-40e1-ca41-d392d69c216f",
        "colab": {
          "base_uri": "https://localhost:8080/"
        }
      },
      "outputs": [
        {
          "output_type": "stream",
          "name": "stdout",
          "text": [
            "[0, 1, 2, 3, 4, 5, 6, 7, 8, 9, 10, 11, 12, 13, 14]\n"
          ]
        }
      ],
      "source": [
        "x=list(range(15))\n",
        "print(x)"
      ]
    },
    {
      "cell_type": "markdown",
      "metadata": {
        "id": "2ApTTwNsHIIB"
      },
      "source": [
        "### The values of the list can be iterated\n",
        "\n",
        "Each list is also an iterator. The following loop structure assigns each value in the list x, to variable i in turn. In the loop, the value is raised to the second power, and the result is printed."
      ]
    },
    {
      "cell_type": "code",
      "execution_count": 5,
      "metadata": {
        "id": "qfs8TwWyHIIC",
        "outputId": "85baef53-953f-4628-d1b3-2598dc58b87a",
        "colab": {
          "base_uri": "https://localhost:8080/"
        }
      },
      "outputs": [
        {
          "output_type": "stream",
          "name": "stdout",
          "text": [
            "0\n",
            "1\n",
            "4\n",
            "9\n",
            "16\n",
            "25\n",
            "36\n",
            "49\n",
            "64\n",
            "81\n",
            "100\n",
            "121\n",
            "144\n",
            "169\n",
            "196\n"
          ]
        }
      ],
      "source": [
        "for i in x:\n",
        "    print(i**2)"
      ]
    },
    {
      "cell_type": "code",
      "execution_count": 6,
      "metadata": {
        "id": "rkpLXk2nHIIC",
        "outputId": "8809ff6e-b2c8-4c16-c98c-5cfa55c72167",
        "colab": {
          "base_uri": "https://localhost:8080/"
        }
      },
      "outputs": [
        {
          "output_type": "stream",
          "name": "stdout",
          "text": [
            "9.865881\n",
            "1.9937439999999997\n",
            "9.869604401089358\n"
          ]
        }
      ],
      "source": [
        "# It also works for floats\n",
        "for i in list_of_floats:\n",
        "    print(i**2)"
      ]
    },
    {
      "cell_type": "code",
      "execution_count": 7,
      "metadata": {
        "id": "PO9KdJoAHIIC",
        "outputId": "6b86e1be-21be-4bf0-8217-38f31a2c3133",
        "colab": {
          "base_uri": "https://localhost:8080/"
        }
      },
      "outputs": [
        {
          "output_type": "stream",
          "name": "stdout",
          "text": [
            "eka\n",
            "toka\n",
            "kolmas\n"
          ]
        }
      ],
      "source": [
        "# And for strings\n",
        "for i in list_of_strings:\n",
        "    print(i)"
      ]
    },
    {
      "cell_type": "code",
      "execution_count": 8,
      "metadata": {
        "id": "ZY4fdM_WHIIC",
        "outputId": "5f4a855d-5d81-47d2-ec96-e46bc7927e1b",
        "colab": {
          "base_uri": "https://localhost:8080/",
          "height": 176
        }
      },
      "outputs": [
        {
          "output_type": "error",
          "ename": "TypeError",
          "evalue": "unsupported operand type(s) for ** or pow(): 'str' and 'int'",
          "traceback": [
            "\u001b[0;31m---------------------------------------------------------------------------\u001b[0m",
            "\u001b[0;31mTypeError\u001b[0m                                 Traceback (most recent call last)",
            "\u001b[0;32m/tmp/ipython-input-4009536281.py\u001b[0m in \u001b[0;36m<cell line: 0>\u001b[0;34m()\u001b[0m\n\u001b[1;32m      1\u001b[0m \u001b[0;31m# But you cannot raise a string to the power of 2\u001b[0m\u001b[0;34m\u001b[0m\u001b[0;34m\u001b[0m\u001b[0m\n\u001b[1;32m      2\u001b[0m \u001b[0;32mfor\u001b[0m \u001b[0mi\u001b[0m \u001b[0;32min\u001b[0m \u001b[0mlist_of_strings\u001b[0m\u001b[0;34m:\u001b[0m\u001b[0;34m\u001b[0m\u001b[0;34m\u001b[0m\u001b[0m\n\u001b[0;32m----> 3\u001b[0;31m     \u001b[0mprint\u001b[0m\u001b[0;34m(\u001b[0m\u001b[0mi\u001b[0m\u001b[0;34m**\u001b[0m\u001b[0;36m2\u001b[0m\u001b[0;34m)\u001b[0m\u001b[0;34m\u001b[0m\u001b[0;34m\u001b[0m\u001b[0m\n\u001b[0m",
            "\u001b[0;31mTypeError\u001b[0m: unsupported operand type(s) for ** or pow(): 'str' and 'int'"
          ]
        }
      ],
      "source": [
        "# But you cannot raise a string to the power of 2\n",
        "for i in list_of_strings:\n",
        "    print(i**2)"
      ]
    },
    {
      "cell_type": "code",
      "execution_count": null,
      "metadata": {
        "id": "D230ofbJHIID"
      },
      "outputs": [],
      "source": [
        "# And a string is also a list\n",
        "s='Hello!'\n",
        "for i in s:\n",
        "    print(i)"
      ]
    },
    {
      "cell_type": "markdown",
      "metadata": {
        "id": "YX_ihBD2HIID"
      },
      "source": [
        "## Python Tuples\n",
        "\n",
        "Tuple is similar than list, except that it is immutable, its values cannot be changed. A tuple is created by listing the values in braces.\n",
        "\n",
        "Tuples are indexed exactly like lists."
      ]
    },
    {
      "cell_type": "code",
      "execution_count": null,
      "metadata": {
        "id": "nURpSd8MHIID"
      },
      "outputs": [],
      "source": [
        "tuple_of_integers=(1,2,3)\n",
        "print(tuple_of_integers)\n",
        "\n",
        "tuple_of_strings=('eka', 'toka', 'kolme')\n",
        "print(tuple_of_strings)\n",
        "\n",
        "print(\"The second integer\", tuple_of_integers[1])\n",
        "\n",
        "# Tuple cannot be changed\n",
        "tuple_of_integers[1]=3"
      ]
    },
    {
      "cell_type": "markdown",
      "metadata": {
        "id": "S2yWRCfVHIID"
      },
      "source": [
        "## Multi-dimensional lists\n",
        "\n",
        "List can have more than one dimensions. The following multidimensional list, M, is actually a list which contains four sublists, which contain three items each.\n",
        "\n",
        "![](https://github.com/pevalisuo/AML/blob/master/lectures/kuvat/matrix.png?raw=1)"
      ]
    },
    {
      "cell_type": "code",
      "execution_count": null,
      "metadata": {
        "id": "K_GaejPcHIIE"
      },
      "outputs": [],
      "source": [
        "M=[[1,2,3], [4,5,6], [7,8,9], [10,11,12]]\n",
        "print(M)\n",
        "\n",
        "print(\"The second sublist is \", M[1])\n",
        "print(\"The first item of the second sublist is \", M[1][0])\n",
        "\n",
        "# Get the dimensions\n",
        "nrows = len(M)\n",
        "ncols = len(M[0])\n",
        "\n",
        "print(\"The dimensions of M are %d %s %d\" % (nrows, 'x', ncols))\n"
      ]
    },
    {
      "cell_type": "markdown",
      "metadata": {
        "id": "vgWkewd0HIIE"
      },
      "source": [
        "## Dictionaries\n",
        "\n",
        "Sometimes it is convenient to index a list with something else than integers. In this case you can use dictionaries."
      ]
    },
    {
      "cell_type": "code",
      "execution_count": 9,
      "metadata": {
        "id": "JgrRfAGkHIIE",
        "outputId": "1d8b54b8-4eb4-4614-e283-b84254e2232c",
        "colab": {
          "base_uri": "https://localhost:8080/"
        }
      },
      "outputs": [
        {
          "output_type": "stream",
          "name": "stdout",
          "text": [
            "toka in Finnish means second in English\n"
          ]
        },
        {
          "output_type": "execute_result",
          "data": {
            "text/plain": [
              "{'eka': 'first', 'toka': 'second', 'kolmas': 'third'}"
            ]
          },
          "metadata": {},
          "execution_count": 9
        }
      ],
      "source": [
        "d={'eka' : 'first',\n",
        "     'toka': 'second',\n",
        "     'kolmas': 'third'}\n",
        "\n",
        "s='toka'\n",
        "print(\"%s in Finnish means %s in English\" % (s, d[s]))\n",
        "d"
      ]
    },
    {
      "cell_type": "markdown",
      "metadata": {
        "id": "KwP3zsSfHIIE"
      },
      "source": [
        "## Numpy arrays (ndarray)\n",
        "\n",
        "Numpy is a shortcut of Numeric Python. Numpy is a library of data structures and functions for efficient numerical computing. Numpy library is programmed in C-language, and compiled to native binary, and therefore the functions in Numpy library are really efficient.\n",
        "\n",
        "Native python data structures are convenient, but Numpy arrays are much better in hanling large amount of data. The benefits of numpy arrays are:\n",
        " - They are used in all numpy libraries\n",
        " - They support easy vectorizatin of operations\n",
        " - They support very convenient indexing and slicing\n",
        " - They are much more efficient in terms of memory usage than python lists\n",
        " - They can be used directly in place of Python lists\n",
        "\n",
        ""
      ]
    },
    {
      "cell_type": "code",
      "execution_count": 10,
      "metadata": {
        "id": "l8MZxCI-HIIE",
        "outputId": "4c83da22-7d9e-41c3-da57-5b44b1723451",
        "colab": {
          "base_uri": "https://localhost:8080/"
        }
      },
      "outputs": [
        {
          "output_type": "stream",
          "name": "stdout",
          "text": [
            "[1 2 3]\n",
            "[3.141      1.412      3.14159265]\n",
            "['eka' 'toka' 'kolmas']\n"
          ]
        }
      ],
      "source": [
        "# Import first the Numeric Pyhthon library, and give it a nice shortcut, np\n",
        "import numpy as np\n",
        "\n",
        "# Then we can create Numpy arrays\n",
        "\n",
        "# 1) From python list\n",
        "x=np.array([1,2,3])\n",
        "y=np.array(list_of_floats)\n",
        "s=np.array(list_of_strings)\n",
        "\n",
        "print(x)\n",
        "print(y)\n",
        "print(s)"
      ]
    },
    {
      "cell_type": "markdown",
      "metadata": {
        "id": "leRWJX_AHIIE"
      },
      "source": [
        "They can be indexed just like lists or tuples"
      ]
    },
    {
      "cell_type": "code",
      "execution_count": 11,
      "metadata": {
        "id": "gCenMhZmHIIF",
        "outputId": "f7a1e52b-754b-48ef-a8fe-b6c52a128bd9",
        "colab": {
          "base_uri": "https://localhost:8080/",
          "height": 34
        }
      },
      "outputs": [
        {
          "output_type": "execute_result",
          "data": {
            "text/plain": [
              "np.str_('eka')"
            ],
            "application/vnd.google.colaboratory.intrinsic+json": {
              "type": "string"
            }
          },
          "metadata": {},
          "execution_count": 11
        }
      ],
      "source": [
        "s[0]"
      ]
    },
    {
      "cell_type": "code",
      "execution_count": 12,
      "metadata": {
        "id": "_LqB-wbsHIIF",
        "outputId": "88a4f796-a8cc-4f21-bc49-7c88cad6ebce",
        "colab": {
          "base_uri": "https://localhost:8080/",
          "height": 211
        }
      },
      "outputs": [
        {
          "output_type": "error",
          "ename": "NameError",
          "evalue": "name 'M' is not defined",
          "traceback": [
            "\u001b[0;31m---------------------------------------------------------------------------\u001b[0m",
            "\u001b[0;31mNameError\u001b[0m                                 Traceback (most recent call last)",
            "\u001b[0;32m/tmp/ipython-input-860823604.py\u001b[0m in \u001b[0;36m<cell line: 0>\u001b[0;34m()\u001b[0m\n\u001b[1;32m      1\u001b[0m \u001b[0;31m# Multidimensional list can be converted to Numpy array\u001b[0m\u001b[0;34m\u001b[0m\u001b[0;34m\u001b[0m\u001b[0m\n\u001b[0;32m----> 2\u001b[0;31m \u001b[0mA\u001b[0m\u001b[0;34m=\u001b[0m\u001b[0mnp\u001b[0m\u001b[0;34m.\u001b[0m\u001b[0marray\u001b[0m\u001b[0;34m(\u001b[0m\u001b[0mM\u001b[0m\u001b[0;34m)\u001b[0m\u001b[0;34m\u001b[0m\u001b[0;34m\u001b[0m\u001b[0m\n\u001b[0m\u001b[1;32m      3\u001b[0m \u001b[0mprint\u001b[0m\u001b[0;34m(\u001b[0m\u001b[0;34m\"A=\"\u001b[0m\u001b[0;34m,\u001b[0m \u001b[0mA\u001b[0m\u001b[0;34m)\u001b[0m\u001b[0;34m\u001b[0m\u001b[0;34m\u001b[0m\u001b[0m\n\u001b[1;32m      4\u001b[0m \u001b[0;34m\u001b[0m\u001b[0m\n\u001b[1;32m      5\u001b[0m \u001b[0;31m# We can create a multidimensional zero array using the\u001b[0m\u001b[0;34m\u001b[0m\u001b[0;34m\u001b[0m\u001b[0m\n",
            "\u001b[0;31mNameError\u001b[0m: name 'M' is not defined"
          ]
        }
      ],
      "source": [
        "# Multidimensional list can be converted to Numpy array\n",
        "A=np.array(M)\n",
        "print(\"A=\", A)\n",
        "\n",
        "# We can create a multidimensional zero array using the\n",
        "# Numpy function zeros, and by giving the dimensions of\n",
        "# the array as tuple\n",
        "\n",
        "B=np.zeros((3,4))\n",
        "print(\"B=\", B)"
      ]
    },
    {
      "cell_type": "markdown",
      "metadata": {
        "id": "LWgW5ddBHIIF"
      },
      "source": [
        "## Indexing Numpy arrays\n",
        "Numpy arrays support flexible indexing.\n",
        "![](https://github.com/pevalisuo/AML/blob/master/lectures/kuvat/matrix.png?raw=1)"
      ]
    },
    {
      "cell_type": "code",
      "execution_count": null,
      "metadata": {
        "id": "lS60CtzHHIIF"
      },
      "outputs": [],
      "source": [
        "# Get the dimensions of the array\n",
        "nrows,ncols = A.shape\n",
        "print(\"The dimensions of A are \", (nrows, ncols))\n",
        "\n",
        "# The shape property of Numpy array is a tuple of integers\n",
        "A.shape"
      ]
    },
    {
      "cell_type": "code",
      "execution_count": null,
      "metadata": {
        "id": "P4-YBmFoHIIF"
      },
      "outputs": [],
      "source": [
        "# Get a specific value\n",
        "row=3 # The fourth row\n",
        "col=2 # The third column\n",
        "\n",
        "# This works just like in MATLAB\n",
        "A[row,col]\n"
      ]
    },
    {
      "cell_type": "code",
      "execution_count": null,
      "metadata": {
        "id": "vHsEdLa6HIIG"
      },
      "outputs": [],
      "source": [
        "# Get the first row\n",
        "A[0]"
      ]
    },
    {
      "cell_type": "code",
      "execution_count": null,
      "metadata": {
        "id": "ruXR0eN-HIIG"
      },
      "outputs": [],
      "source": [
        "# Get the first column, again just like in MATLAB\n",
        "A[:,0]"
      ]
    },
    {
      "cell_type": "code",
      "execution_count": null,
      "metadata": {
        "ExecuteTime": {
          "end_time": "2021-10-06T10:24:07.480295Z",
          "start_time": "2021-10-06T10:24:07.475715Z"
        },
        "id": "8WX4MXEfHIIG"
      },
      "outputs": [],
      "source": [
        "import numpy as np\n",
        "234**234"
      ]
    },
    {
      "cell_type": "markdown",
      "metadata": {
        "id": "uXB8oa8nHIIH"
      },
      "source": [
        "## Vectorization of operators"
      ]
    },
    {
      "cell_type": "code",
      "execution_count": null,
      "metadata": {
        "ExecuteTime": {
          "end_time": "2021-10-06T10:25:06.887116Z",
          "start_time": "2021-10-06T10:24:57.499424Z"
        },
        "id": "UCbZz3XdHIIH"
      },
      "outputs": [],
      "source": [
        "# It is rather slow to iterate through the values of large vector by python\n",
        "def sumofvalues(x):\n",
        "    total=0\n",
        "    for i in x:\n",
        "        total += i\n",
        "    return total\n",
        "\n",
        "# Lets create a numpy array whic is a list of N first numbers an calculate the sum\n",
        "v=np.arange(100000000)\n",
        "\n",
        "# Lets use a %time directive to let the computer to calculate the time needed\n",
        "# for the calcuation. In my computer it took about 300 ms\n",
        "%time sum=sumofvalues(v)\n",
        "print(\"Sum of values is \", sum)"
      ]
    },
    {
      "cell_type": "markdown",
      "metadata": {
        "id": "27Rh-DoGHIIH"
      },
      "source": [
        "Now we do the same thing using the function from the numpy library. In this way it took only 5 ms in my computer, so it was 60 times faster"
      ]
    },
    {
      "cell_type": "code",
      "execution_count": null,
      "metadata": {
        "ExecuteTime": {
          "end_time": "2021-10-06T10:26:22.115522Z",
          "start_time": "2021-10-06T10:26:21.985137Z"
        },
        "id": "Hs2DV9k4HIIH"
      },
      "outputs": [],
      "source": [
        "%time np.sum(v)"
      ]
    },
    {
      "cell_type": "markdown",
      "metadata": {
        "id": "MdqQm3i7HIIH"
      },
      "source": [
        "The array is actually an object, which has many build in functions, including `sum()`. You can get the sum using that function as well, this is exactly as fast as calling `np.sum()`"
      ]
    },
    {
      "cell_type": "code",
      "execution_count": null,
      "metadata": {
        "ExecuteTime": {
          "end_time": "2021-10-06T10:26:12.223013Z",
          "start_time": "2021-10-06T10:26:12.091806Z"
        },
        "scrolled": true,
        "id": "JUiL01xcHIIH"
      },
      "outputs": [],
      "source": [
        "%time v.sum()"
      ]
    },
    {
      "cell_type": "markdown",
      "metadata": {
        "id": "qgS21C43HIII"
      },
      "source": [
        "By vectorizing the operators using build-in functions you can make the code siginificantly more efficient with fewer lines of code."
      ]
    },
    {
      "cell_type": "markdown",
      "metadata": {
        "id": "IMsCd53cHIIM"
      },
      "source": [
        "As another example, we can rise all the cells in an array to the power of two"
      ]
    },
    {
      "cell_type": "code",
      "execution_count": null,
      "metadata": {
        "id": "Fc932RkdHIIM"
      },
      "outputs": [],
      "source": [
        "A**2"
      ]
    },
    {
      "cell_type": "markdown",
      "metadata": {
        "id": "a8NIkrxkHIIM"
      },
      "source": [
        "Because the result is also an array, we can chain the array operators like this:"
      ]
    },
    {
      "cell_type": "code",
      "execution_count": null,
      "metadata": {
        "id": "KHPJZOzDHIIM"
      },
      "outputs": [],
      "source": [
        "(A**2).sum()"
      ]
    },
    {
      "cell_type": "code",
      "execution_count": null,
      "metadata": {
        "id": "eQC6futDHIIM"
      },
      "outputs": [],
      "source": [
        "np.sqrt((A**2).sum())"
      ]
    },
    {
      "cell_type": "markdown",
      "metadata": {
        "id": "-tB2rtXXHIIM"
      },
      "source": [
        "## Exercises\n",
        "\n",
        "1. Study what build in functions numpy-arrays include by reading the [documentation](https://numpy.org/doc/stable/reference/arrays.ndarray.html).\n",
        "1. Create a numpy array A, and then use interactive help function to study the documentation. Do this by writing A. (\"A\" and \".\"), in beginning of the line in the code cell, place the cursor immediately after the letters A., and press Shft-Tab. You can expand the documentation window by clicking the `^`-mark in the help window.\n",
        "1. Study the list of available properties and functions in numpy array A, by placing the cursor after \"A.\" and by pressing the Tab.\n",
        "\n",
        "![](https://github.com/pevalisuo/AML/blob/master/lectures/kuvat/numpyArrayHelp.png?raw=1)\n",
        "\n"
      ]
    },
    {
      "cell_type": "code",
      "execution_count": null,
      "metadata": {
        "id": "MlhYuOUIHIIM"
      },
      "outputs": [],
      "source": [
        "A."
      ]
    },
    {
      "cell_type": "markdown",
      "metadata": {
        "id": "emCLl8APHIIM"
      },
      "source": [
        "# Pandas"
      ]
    },
    {
      "cell_type": "markdown",
      "metadata": {
        "id": "Tm_6zZ7pHIIN"
      },
      "source": [
        "Pandas is a Python data analysis library, which makes data reading, handling and plotting even more convenient.\n",
        "\n",
        "Lets just import the pandas librrary and give it a short name pd."
      ]
    },
    {
      "cell_type": "code",
      "execution_count": null,
      "metadata": {
        "ExecuteTime": {
          "end_time": "2022-10-06T16:43:32.892467Z",
          "start_time": "2022-10-06T16:43:30.849835Z"
        },
        "id": "rPig9KlLHIIN"
      },
      "outputs": [],
      "source": [
        "import pandas as pd\n",
        "import numpy as np\n"
      ]
    },
    {
      "cell_type": "markdown",
      "metadata": {
        "id": "NuxT2wabHIIN"
      },
      "source": [
        "In pandas, the data is stored in Data Frames (like in R) which are N-dimensional matrices, just like numpy arrays.\n",
        "\n",
        "We can now create a pandas data frame based on the existing numpy array."
      ]
    },
    {
      "cell_type": "code",
      "execution_count": null,
      "metadata": {
        "ExecuteTime": {
          "end_time": "2022-10-06T16:55:05.718359Z",
          "start_time": "2022-10-06T16:55:05.670989Z"
        },
        "id": "ilFBgyQMHIIN"
      },
      "outputs": [],
      "source": [
        "A=[[1,2,3], [4,5,6], [7,8,9], [10,11,12]]\n",
        "pd.DataFrame(data=A)"
      ]
    },
    {
      "cell_type": "markdown",
      "metadata": {
        "id": "1gVZFRAKHIIN"
      },
      "source": [
        "As can be seen, pandas can plot the data in a pretty format automatically in a notebook.\n",
        "\n",
        "The dataframe can have symbolic column and row names:"
      ]
    },
    {
      "cell_type": "code",
      "execution_count": null,
      "metadata": {
        "ExecuteTime": {
          "end_time": "2022-10-06T16:57:41.617455Z",
          "start_time": "2022-10-06T16:57:41.572849Z"
        },
        "scrolled": true,
        "id": "H8hgWcX_HIIN"
      },
      "outputs": [],
      "source": [
        "D=pd.DataFrame(data=A, columns=('a', 'b', 'c'),\n",
        "               index=('Mon','Tue', 'Wed', 'Fri'))\n",
        "D"
      ]
    },
    {
      "cell_type": "markdown",
      "metadata": {
        "id": "5clew2rOHIIN"
      },
      "source": [
        "Dataframe can be indexed by either symbolic names (loc) or numerical indices (iloc)."
      ]
    },
    {
      "cell_type": "code",
      "execution_count": null,
      "metadata": {
        "id": "lwTMP4MtHIIO"
      },
      "outputs": [],
      "source": [
        "D.iloc[1,2]"
      ]
    },
    {
      "cell_type": "code",
      "execution_count": null,
      "metadata": {
        "ExecuteTime": {
          "end_time": "2022-10-06T17:01:35.892564Z",
          "start_time": "2022-10-06T17:01:35.887131Z"
        },
        "id": "ouDcHV-0HIIO"
      },
      "outputs": [],
      "source": [
        "D.loc['Tue':, :'b']"
      ]
    },
    {
      "cell_type": "code",
      "execution_count": null,
      "metadata": {
        "id": "QW0O7T00HIIO"
      },
      "outputs": [],
      "source": [
        "D.loc['Tue', 'b']"
      ]
    },
    {
      "cell_type": "markdown",
      "metadata": {
        "id": "YyKe2Vt5HIIO"
      },
      "source": [
        "Pandas Dataframe has also a large number build in functions which usually operate columnwise by default, but can be changed to operate row-wise using axis-parameter"
      ]
    },
    {
      "cell_type": "code",
      "execution_count": null,
      "metadata": {
        "ExecuteTime": {
          "end_time": "2022-10-06T17:02:10.497451Z",
          "start_time": "2022-10-06T17:02:10.481128Z"
        },
        "id": "KkYDABxfHIIO"
      },
      "outputs": [],
      "source": [
        "D.sum()"
      ]
    },
    {
      "cell_type": "code",
      "execution_count": null,
      "metadata": {
        "ExecuteTime": {
          "end_time": "2022-10-06T17:03:40.702694Z",
          "start_time": "2022-10-06T17:03:40.697135Z"
        },
        "id": "L8DOrc76HIIO"
      },
      "outputs": [],
      "source": [
        "D?"
      ]
    },
    {
      "cell_type": "code",
      "execution_count": null,
      "metadata": {
        "ExecuteTime": {
          "end_time": "2022-10-06T17:03:10.787142Z",
          "start_time": "2022-10-06T17:03:10.780687Z"
        },
        "id": "n4n9m56FHIIP"
      },
      "outputs": [],
      "source": [
        "D.std(axis=1)"
      ]
    },
    {
      "cell_type": "markdown",
      "metadata": {
        "id": "V0GB2zYHHIIP"
      },
      "source": [
        "### Excercise on pandas\n",
        "\n",
        "1. Study the on-line documentation of DataFrame by entering `D.` and pressing Shift-Tab after the dot.\n",
        "1. Study the on-line documentation of the sum() function of the DataFrame by writing `D.sum` and pressing Shift-Tab after that.\n",
        "1. Calculate the average of the dataframe columnwise and row-wise.\n",
        "1. Calculate the sum of all values in a dataframe. Notice that the result of the columnwise sum is also a dataframe."
      ]
    },
    {
      "cell_type": "markdown",
      "metadata": {
        "id": "Jwolh1tlHIIP"
      },
      "source": [
        "# Object oriented programming\n",
        "\n",
        "All data structures listed above are objects. It means that they do not store only data, but they also contains methods (member functions) and attributes (member variables) which can be accessed using dot notation.\n",
        "\n",
        "Object oriented programming is actually [more](https://www.tutorialspoint.com/What-is-object-oriented-programming-OOP) than that, but this is minimal what you need to know now.\n",
        "\n",
        "![](https://github.com/pevalisuo/AML/blob/master/lectures/kuvat/ooprogramming.svg?raw=1)"
      ]
    },
    {
      "cell_type": "code",
      "execution_count": null,
      "metadata": {
        "id": "ZsvI2RllHIIP"
      },
      "outputs": [],
      "source": [
        "# This way you can access the numpy array inside data frame\n",
        "D.values"
      ]
    },
    {
      "cell_type": "code",
      "execution_count": null,
      "metadata": {
        "id": "7qIToHdlHIIP"
      },
      "outputs": [],
      "source": [
        "# You can ask the type of and object with type() -function\n",
        "print(type(D))\n",
        "print(type(D.values))"
      ]
    },
    {
      "cell_type": "code",
      "execution_count": null,
      "metadata": {
        "ExecuteTime": {
          "end_time": "2022-10-06T17:07:51.867749Z",
          "start_time": "2022-10-06T17:07:51.864698Z"
        },
        "id": "jsOvscb0HIIP"
      },
      "outputs": [],
      "source": [
        "# Read the shape property of the numpy array part inside data frame\n",
        "D.values.shape\n",
        "#D.shape"
      ]
    }
  ],
  "metadata": {
    "celltoolbar": "Slideshow",
    "kernelspec": {
      "display_name": "Python 3 (ipykernel)",
      "language": "python",
      "name": "python3"
    },
    "language_info": {
      "codemirror_mode": {
        "name": "ipython",
        "version": 3
      },
      "file_extension": ".py",
      "mimetype": "text/x-python",
      "name": "python",
      "nbconvert_exporter": "python",
      "pygments_lexer": "ipython3",
      "version": "3.9.2"
    },
    "toc": {
      "base_numbering": 1,
      "nav_menu": {},
      "number_sections": true,
      "sideBar": true,
      "skip_h1_title": false,
      "title_cell": "Table of Contents",
      "title_sidebar": "Contents",
      "toc_cell": false,
      "toc_position": {},
      "toc_section_display": true,
      "toc_window_display": false
    },
    "colab": {
      "provenance": []
    }
  },
  "nbformat": 4,
  "nbformat_minor": 0
}